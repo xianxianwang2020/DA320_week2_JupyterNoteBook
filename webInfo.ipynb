{
 "cells": [
  {
   "cell_type": "code",
   "execution_count": 5,
   "id": "343fa920-70a8-4b23-ad40-1a4ebacd5bfb",
   "metadata": {},
   "outputs": [
    {
     "name": "stdout",
     "output_type": "stream",
     "text": [
      "Fetched 1562 characters from https://www.google.com/utf-8 (status: 404)\n"
     ]
    }
   ],
   "source": [
    "import urllib3\n",
    "#link=\"https://www.metacritic.com/browse/movies/score/metascore/year/filtered?year_selected=2008&sort=desc&view=detailed/utf-8\"\n",
    "link=\"https://www.google.com/utf-8\"\n",
    "#link=\"https:/www.webcode.com\"\n",
    "# construct a python request pool\n",
    "http=urllib3.PoolManager()\n",
    "\n",
    "# Initiate a web request\n",
    "r=http.request(\"GET\",link)\n",
    "\n",
    "# Convert the result from row bytes to text\n",
    "datastring=str(r.data,\"utf-8\")\n",
    "\n",
    "# Check whethere it succeeded and how much data from the site\n",
    "#print (\"Fetched \" + str(len(r.data))+\" bytes from \"+ link +\"  status : \"+str(r.status))\n",
    "print ( f\"Fetched {len(datastring)} characters from {link} (status: {r.status})\")"
   ]
  },
  {
   "cell_type": "code",
   "execution_count": 6,
   "id": "be7a1f43-3976-4828-8dd7-220aaf7aca23",
   "metadata": {},
   "outputs": [
    {
     "name": "stdout",
     "output_type": "stream",
     "text": [
      "Fetched 348 characters from url :http://webcode.me  size= 348 \n"
     ]
    }
   ],
   "source": [
    "\n",
    "import urllib3\n",
    "url=\"http://webcode.me\"\n",
    "res=http.request(\"GET\",url)\n",
    "\n",
    "webtext=res.data.decode(\"utf-8\")\n",
    "print( \"Fetched \" +str(len(webtext))+\" characters from url :\"+ url+\"  size= \"+ str(len(res.data))+\" \")\n",
    "#print ( f\"Fetched {len(webtext)} characters from {url} (status: {res.status})\")\n"
   ]
  },
  {
   "cell_type": "code",
   "execution_count": 15,
   "id": "65fb8dde-3841-43ce-aeb1-60ba65a0fc73",
   "metadata": {},
   "outputs": [
    {
     "name": "stdout",
     "output_type": "stream",
     "text": [
      "<!DOCTYPE html>\n",
      "<html lang=\"en\">\n",
      "<head>\n",
      "    <meta charset=\"UTF-8\">\n",
      "    <meta name=\"viewport\" content=\"width=device-width, initial-scale=1.0\">\n",
      "    <title>My html page</title>\n",
      "</head>\n",
      "<body>\n",
      "\n",
      "    <p>\n",
      "        Today is a beautiful day. We go swimming and fishing.\n",
      "    </p>\n",
      "    \n",
      "    <p>\n",
      "         Hello there. How are you?\n",
      "    </p>\n",
      "    \n",
      "</body>\n",
      "</html>\n",
      "\n",
      "\n",
      "<re.Match object; span=(0, 17), match='The rain in Spain'>\n"
     ]
    }
   ],
   "source": [
    "import re\n",
    "print (webtext)\n",
    "txt = \"The rain in Spain\"\n",
    "x = re.search(\"^The.*Spain$\", txt)\n",
    "print (x)"
   ]
  },
  {
   "cell_type": "code",
   "execution_count": 16,
   "id": "43234203-4d64-4b06-a12a-e705507921ec",
   "metadata": {},
   "outputs": [
    {
     "name": "stdout",
     "output_type": "stream",
     "text": [
      "Found 2 matches. The first math is \n",
      "        Today is a beautiful day. We go swimming and fishing.\n",
      "   \n"
     ]
    }
   ],
   "source": [
    "import re\n",
    "\n",
    "txt = \"The rain in Spain, the train is late, Rai is not coming\"\n",
    "#y=re.search(\"ai\",webtxt)\n",
    "x = re.findall(\"<p>([\\S\\s.]*?) </p>\", webtext)\n",
    "print(f\"Found {len(x)} matches. The first math is {x[0]}\")"
   ]
  },
  {
   "cell_type": "code",
   "execution_count": null,
   "id": "14bc709e-5170-4307-b4c7-b0e2e0c08cfc",
   "metadata": {},
   "outputs": [],
   "source": []
  },
  {
   "cell_type": "code",
   "execution_count": null,
   "id": "448d2b70-c04e-4a9e-8627-95ff41604ec5",
   "metadata": {},
   "outputs": [],
   "source": []
  }
 ],
 "metadata": {
  "kernelspec": {
   "display_name": "Python 3 (ipykernel)",
   "language": "python",
   "name": "python3"
  },
  "language_info": {
   "codemirror_mode": {
    "name": "ipython",
    "version": 3
   },
   "file_extension": ".py",
   "mimetype": "text/x-python",
   "name": "python",
   "nbconvert_exporter": "python",
   "pygments_lexer": "ipython3",
   "version": "3.9.7"
  }
 },
 "nbformat": 4,
 "nbformat_minor": 5
}
