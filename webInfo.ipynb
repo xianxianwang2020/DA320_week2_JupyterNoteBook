{
 "cells": [
  {
   "cell_type": "code",
   "execution_count": 6,
   "id": "343fa920-70a8-4b23-ad40-1a4ebacd5bfb",
   "metadata": {},
   "outputs": [
    {
     "name": "stdout",
     "output_type": "stream",
     "text": [
      "Fetched 1566 bytes from https://www.google.com/utf-8  status : 404\n"
     ]
    }
   ],
   "source": [
    "import urllib3\n",
    "#link=\"https://www.metacritic.com/browse/movies/score/metascore/year/filtered?year_selected=2008&sort=desc&view=detailed/utf-8\"\n",
    "link=\"https://www.google.com/utf-8\"\n",
    "# construct a python request pool\n",
    "http=urllib3.PoolManager()\n",
    "\n",
    "# Initiate a web request\n",
    "r=http.request(\"GET\",link)\n",
    "\n",
    "# Convert the result from row bytes to text\n",
    "datastring=str(r.data,\"utf-8\")\n",
    "\n",
    "# Check whethere it succeeded and how much data from the site\n",
    "print (\"Fetched \" + str(len(r.data))+\" bytes from \"+ link +\"  status : \"+str(r.status))"
   ]
  },
  {
   "cell_type": "code",
   "execution_count": null,
   "id": "be7a1f43-3976-4828-8dd7-220aaf7aca23",
   "metadata": {},
   "outputs": [],
   "source": []
  }
 ],
 "metadata": {
  "kernelspec": {
   "display_name": "Python 3 (ipykernel)",
   "language": "python",
   "name": "python3"
  },
  "language_info": {
   "codemirror_mode": {
    "name": "ipython",
    "version": 3
   },
   "file_extension": ".py",
   "mimetype": "text/x-python",
   "name": "python",
   "nbconvert_exporter": "python",
   "pygments_lexer": "ipython3",
   "version": "3.9.7"
  }
 },
 "nbformat": 4,
 "nbformat_minor": 5
}
