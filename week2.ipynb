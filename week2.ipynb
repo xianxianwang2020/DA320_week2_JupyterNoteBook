{
 "cells": [
  {
   "cell_type": "code",
   "execution_count": 1,
   "id": "4571c818-4fab-4f2d-9f73-0d1a5f11eea4",
   "metadata": {},
   "outputs": [
    {
     "name": "stdout",
     "output_type": "stream",
     "text": [
      "hello\n"
     ]
    }
   ],
   "source": [
    "print(\"hello\")"
   ]
  },
  {
   "cell_type": "code",
   "execution_count": 1,
   "id": "358401aa-0e72-4ec2-a2ad-40aefd2e58e9",
   "metadata": {},
   "outputs": [
    {
     "name": "stdout",
     "output_type": "stream",
     "text": [
      "Take care\n"
     ]
    }
   ],
   "source": [
    "print (\"Take care\")"
   ]
  },
  {
   "cell_type": "code",
   "execution_count": 7,
   "id": "dd910899-9827-4523-926a-70ec87ef44c1",
   "metadata": {},
   "outputs": [
    {
     "name": "stdout",
     "output_type": "stream",
     "text": [
      "My usernmame is xianw\n",
      "My password is 12345\n"
     ]
    }
   ],
   "source": [
    "import json\n",
    "\n",
    "with open('C:\\\\Users\\\\xianx\\\\Documents\\\\xianw_secret.json') as f:\n",
    "    data = json.load(f)\n",
    "    username = data['username']\n",
    "    password = data['password']\n",
    "print(\"My usernmame is \"+username)\n",
    "print(\"My password is \"+password)"
   ]
  },
  {
   "cell_type": "code",
   "execution_count": null,
   "id": "9e62222b-4504-4cd6-8f6b-74a2354f8431",
   "metadata": {},
   "outputs": [],
   "source": []
  },
  {
   "cell_type": "code",
   "execution_count": null,
   "id": "b4b53a16-b517-496e-8faa-675340ce8d75",
   "metadata": {},
   "outputs": [],
   "source": []
  },
  {
   "cell_type": "code",
   "execution_count": null,
   "id": "10ae0506-e8f2-4400-9cf4-7b263ee9cf14",
   "metadata": {},
   "outputs": [],
   "source": []
  }
 ],
 "metadata": {
  "kernelspec": {
   "display_name": "Python 3 (ipykernel)",
   "language": "python",
   "name": "python3"
  },
  "language_info": {
   "codemirror_mode": {
    "name": "ipython",
    "version": 3
   },
   "file_extension": ".py",
   "mimetype": "text/x-python",
   "name": "python",
   "nbconvert_exporter": "python",
   "pygments_lexer": "ipython3",
   "version": "3.9.7"
  }
 },
 "nbformat": 4,
 "nbformat_minor": 5
}
